{
 "cells": [
  {
   "cell_type": "code",
   "execution_count": 18,
   "id": "026cb778-839b-4c4a-b961-08f82af9ce5a",
   "metadata": {},
   "outputs": [],
   "source": [
    "import pandas as pd\n",
    "import numpy as np\n",
    "from pygam import LinearGAM, s\n",
    "from sklearn.utils import shuffle\n",
    "from sklearn.model_selection import KFold\n",
    "from sklearn.metrics import r2_score"
   ]
  },
  {
   "cell_type": "code",
   "execution_count": 4,
   "id": "18bf6a89-accc-4f6a-bf01-6886b71cfdd9",
   "metadata": {},
   "outputs": [],
   "source": [
    "df = pd.read_csv(r'D:\\Work\\Programs\\CropYieldPrediction\\barley\\barley.csv')"
   ]
  },
  {
   "cell_type": "code",
   "execution_count": 14,
   "id": "94ae9ef3-104b-480d-83e3-d9daf4c5946f",
   "metadata": {},
   "outputs": [],
   "source": [
    "X = df.drop(columns = ['Yield_tons_per_hectare', 'Crop'])\n",
    "y = df['Yield_tons_per_hectare']"
   ]
  },
  {
   "cell_type": "code",
   "execution_count": 15,
   "id": "69134eba-2659-427b-ae0b-f9ae9528acc5",
   "metadata": {},
   "outputs": [],
   "source": [
    "X, y = shuffle(X, y, random_state = 42)"
   ]
  },
  {
   "cell_type": "code",
   "execution_count": 16,
   "id": "181c0966-4cad-4d8e-82c8-8be8f48578fa",
   "metadata": {},
   "outputs": [],
   "source": [
    "kf = KFold(n_splits = 10, shuffle = True, random_state = 42)"
   ]
  },
  {
   "cell_type": "code",
   "execution_count": 19,
   "id": "3b19176d-6089-4176-af21-427927d76543",
   "metadata": {},
   "outputs": [
    {
     "name": "stdout",
     "output_type": "stream",
     "text": [
      "Fold: 1, Accuracy: 0.9143926066425065\n",
      "Fold: 2, Accuracy: 0.9137763057203535\n",
      "Fold: 3, Accuracy: 0.9130303259340145\n",
      "Fold: 4, Accuracy: 0.9117348325839973\n",
      "Fold: 5, Accuracy: 0.9139119158978934\n",
      "Fold: 6, Accuracy: 0.9126457242925412\n",
      "Fold: 7, Accuracy: 0.9122958901991368\n",
      "Fold: 8, Accuracy: 0.9135791890167739\n",
      "Fold: 9, Accuracy: 0.911763880515617\n",
      "Fold: 10, Accuracy: 0.9141094119481668\n"
     ]
    }
   ],
   "source": [
    "for fold, (train_idx, val_idx) in enumerate(kf.split(X, y)):\n",
    "    X_train, X_val = X.iloc[train_idx], X.iloc[val_idx]\n",
    "    y_train, y_val = y.iloc[train_idx], y.iloc[val_idx]\n",
    "\n",
    "    gam = LinearGAM().fit(X_train, y_train)\n",
    "    y_pred = gam.predict(X_val)\n",
    "    \n",
    "    acc = r2_score(y_val, y_pred)\n",
    "    print(f\"Fold: {fold+1}, Accuracy: {acc}\")"
   ]
  }
 ],
 "metadata": {
  "kernelspec": {
   "display_name": "Python 3 (ipykernel)",
   "language": "python",
   "name": "python3"
  },
  "language_info": {
   "codemirror_mode": {
    "name": "ipython",
    "version": 3
   },
   "file_extension": ".py",
   "mimetype": "text/x-python",
   "name": "python",
   "nbconvert_exporter": "python",
   "pygments_lexer": "ipython3",
   "version": "3.12.5"
  }
 },
 "nbformat": 4,
 "nbformat_minor": 5
}

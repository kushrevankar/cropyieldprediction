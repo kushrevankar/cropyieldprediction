{
 "cells": [
  {
   "cell_type": "code",
   "execution_count": 28,
   "metadata": {},
   "outputs": [],
   "source": [
    "# importing libraries\n",
    "\n",
    "import pandas as pd\n",
    "import numpy as np"
   ]
  },
  {
   "cell_type": "code",
   "execution_count": null,
   "metadata": {},
   "outputs": [
    {
     "name": "stderr",
     "output_type": "stream",
     "text": [
      "<>:1: SyntaxWarning: invalid escape sequence '\\W'\n",
      "<>:1: SyntaxWarning: invalid escape sequence '\\W'\n",
      "C:\\Users\\Kush\\AppData\\Local\\Temp\\ipykernel_7608\\2079092896.py:1: SyntaxWarning: invalid escape sequence '\\W'\n",
      "  df = pd.read_csv(\"D:\\Work\\Programs\\CropYieldPrediction\\cropyield.csv\")\n"
     ]
    }
   ],
   "source": [
    "# reading the dataset\n",
    "\n",
    "df = pd.read_csv(\"D:\\Work\\Programs\\CropYieldPrediction\\cropyield.csv\")"
   ]
  },
  {
   "cell_type": "code",
   "execution_count": 4,
   "metadata": {},
   "outputs": [
    {
     "name": "stdout",
     "output_type": "stream",
     "text": [
      "<class 'pandas.core.frame.DataFrame'>\n",
      "RangeIndex: 1000000 entries, 0 to 999999\n",
      "Data columns (total 10 columns):\n",
      " #   Column                  Non-Null Count    Dtype  \n",
      "---  ------                  --------------    -----  \n",
      " 0   Region                  1000000 non-null  object \n",
      " 1   Soil_Type               1000000 non-null  object \n",
      " 2   Crop                    1000000 non-null  object \n",
      " 3   Rainfall_mm             1000000 non-null  float64\n",
      " 4   Temperature_Celsius     1000000 non-null  float64\n",
      " 5   Fertilizer_Used         1000000 non-null  bool   \n",
      " 6   Irrigation_Used         1000000 non-null  bool   \n",
      " 7   Weather_Condition       1000000 non-null  object \n",
      " 8   Days_to_Harvest         1000000 non-null  int64  \n",
      " 9   Yield_tons_per_hectare  1000000 non-null  float64\n",
      "dtypes: bool(2), float64(3), int64(1), object(4)\n",
      "memory usage: 62.9+ MB\n"
     ]
    }
   ],
   "source": [
    "# general information\n",
    "\n",
    "df.info()"
   ]
  },
  {
   "cell_type": "code",
   "execution_count": null,
   "metadata": {},
   "outputs": [
    {
     "data": {
      "text/plain": [
       "Region                    0\n",
       "Soil_Type                 0\n",
       "Crop                      0\n",
       "Rainfall_mm               0\n",
       "Temperature_Celsius       0\n",
       "Fertilizer_Used           0\n",
       "Irrigation_Used           0\n",
       "Weather_Condition         0\n",
       "Days_to_Harvest           0\n",
       "Yield_tons_per_hectare    0\n",
       "dtype: int64"
      ]
     },
     "execution_count": 6,
     "metadata": {},
     "output_type": "execute_result"
    }
   ],
   "source": [
    "# total number of null values for each attribute\n",
    "\n",
    "df.isnull().sum()"
   ]
  },
  {
   "cell_type": "code",
   "execution_count": 11,
   "metadata": {},
   "outputs": [],
   "source": [
    "# sine cosine encoding the region data\n",
    "\n",
    "direction_map = {\n",
    "    \"North\": 0,\n",
    "    \"East\": 90,\n",
    "    \"South\": 180,\n",
    "    \"West\": 270\n",
    "}\n",
    "\n",
    "df[\"Angle\"] = df[\"Region\"].map(direction_map)\n",
    "\n",
    "df[\"sin_dir\"] = np.sin(np.radians(df[\"Angle\"])).astype(np.float32)\n",
    "df[\"cos_dir\"] = np.cos(np.radians(df[\"Angle\"])).astype(np.float32)\n",
    "\n",
    "df.drop(columns=[\"Angle\", \"Region\"], inplace=True)"
   ]
  },
  {
   "cell_type": "code",
   "execution_count": 12,
   "metadata": {},
   "outputs": [
    {
     "name": "stdout",
     "output_type": "stream",
     "text": [
      "['Sandy' 'Clay' 'Loam' 'Silt' 'Peaty' 'Chalky']\n"
     ]
    }
   ],
   "source": [
    "# different soil types\n",
    "\n",
    "print(df['Soil_Type'].unique())"
   ]
  },
  {
   "cell_type": "code",
   "execution_count": 13,
   "metadata": {},
   "outputs": [],
   "source": [
    "# one hot encoding the soil type column\n",
    "\n",
    "df = pd.get_dummies(df, columns=[\"Soil_Type\"], dtype=np.uint8)"
   ]
  },
  {
   "cell_type": "code",
   "execution_count": null,
   "metadata": {},
   "outputs": [
    {
     "name": "stdout",
     "output_type": "stream",
     "text": [
      "<class 'pandas.core.frame.DataFrame'>\n",
      "RangeIndex: 1000000 entries, 0 to 999999\n",
      "Data columns (total 16 columns):\n",
      " #   Column                  Non-Null Count    Dtype  \n",
      "---  ------                  --------------    -----  \n",
      " 0   Crop                    1000000 non-null  object \n",
      " 1   Rainfall_mm             1000000 non-null  float64\n",
      " 2   Temperature_Celsius     1000000 non-null  float64\n",
      " 3   Fertilizer_Used         1000000 non-null  int64  \n",
      " 4   Irrigation_Used         1000000 non-null  bool   \n",
      " 5   Weather_Condition       1000000 non-null  object \n",
      " 6   Days_to_Harvest         1000000 non-null  int64  \n",
      " 7   Yield_tons_per_hectare  1000000 non-null  float64\n",
      " 8   sin_dir                 1000000 non-null  float32\n",
      " 9   cos_dir                 1000000 non-null  float32\n",
      " 10  Soil_Type_Chalky        1000000 non-null  uint8  \n",
      " 11  Soil_Type_Clay          1000000 non-null  uint8  \n",
      " 12  Soil_Type_Loam          1000000 non-null  uint8  \n",
      " 13  Soil_Type_Peaty         1000000 non-null  uint8  \n",
      " 14  Soil_Type_Sandy         1000000 non-null  uint8  \n",
      " 15  Soil_Type_Silt          1000000 non-null  uint8  \n",
      "dtypes: bool(1), float32(2), float64(3), int64(2), object(2), uint8(6)\n",
      "memory usage: 67.7+ MB\n"
     ]
    }
   ],
   "source": [
    "# checking if the extra columns have formed properly or not\n",
    "\n",
    "df.info()"
   ]
  },
  {
   "cell_type": "code",
   "execution_count": null,
   "metadata": {},
   "outputs": [],
   "source": [
    "# label encoding the fertilizer column since it only consisted of true and false values\n",
    "\n",
    "df[\"Fertilizer_Used\"] = df[\"Fertilizer_Used\"].astype(int)"
   ]
  },
  {
   "cell_type": "code",
   "execution_count": 20,
   "metadata": {},
   "outputs": [],
   "source": [
    "# label encoding the irrigation column since it only consisted of true and false values\n",
    "\n",
    "df[\"Irrigation_Used\"] = df[\"Irrigation_Used\"].astype(int)"
   ]
  },
  {
   "cell_type": "code",
   "execution_count": 21,
   "metadata": {},
   "outputs": [
    {
     "data": {
      "text/html": [
       "<div>\n",
       "<style scoped>\n",
       "    .dataframe tbody tr th:only-of-type {\n",
       "        vertical-align: middle;\n",
       "    }\n",
       "\n",
       "    .dataframe tbody tr th {\n",
       "        vertical-align: top;\n",
       "    }\n",
       "\n",
       "    .dataframe thead th {\n",
       "        text-align: right;\n",
       "    }\n",
       "</style>\n",
       "<table border=\"1\" class=\"dataframe\">\n",
       "  <thead>\n",
       "    <tr style=\"text-align: right;\">\n",
       "      <th></th>\n",
       "      <th>Crop</th>\n",
       "      <th>Rainfall_mm</th>\n",
       "      <th>Temperature_Celsius</th>\n",
       "      <th>Fertilizer_Used</th>\n",
       "      <th>Irrigation_Used</th>\n",
       "      <th>Weather_Condition</th>\n",
       "      <th>Days_to_Harvest</th>\n",
       "      <th>Yield_tons_per_hectare</th>\n",
       "      <th>sin_dir</th>\n",
       "      <th>cos_dir</th>\n",
       "      <th>Soil_Type_Chalky</th>\n",
       "      <th>Soil_Type_Clay</th>\n",
       "      <th>Soil_Type_Loam</th>\n",
       "      <th>Soil_Type_Peaty</th>\n",
       "      <th>Soil_Type_Sandy</th>\n",
       "      <th>Soil_Type_Silt</th>\n",
       "    </tr>\n",
       "  </thead>\n",
       "  <tbody>\n",
       "    <tr>\n",
       "      <th>0</th>\n",
       "      <td>Cotton</td>\n",
       "      <td>897.077239</td>\n",
       "      <td>27.676966</td>\n",
       "      <td>0</td>\n",
       "      <td>1</td>\n",
       "      <td>Cloudy</td>\n",
       "      <td>122</td>\n",
       "      <td>6.555816</td>\n",
       "      <td>-1.000000e+00</td>\n",
       "      <td>-1.836970e-16</td>\n",
       "      <td>0</td>\n",
       "      <td>0</td>\n",
       "      <td>0</td>\n",
       "      <td>0</td>\n",
       "      <td>1</td>\n",
       "      <td>0</td>\n",
       "    </tr>\n",
       "    <tr>\n",
       "      <th>1</th>\n",
       "      <td>Rice</td>\n",
       "      <td>992.673282</td>\n",
       "      <td>18.026142</td>\n",
       "      <td>1</td>\n",
       "      <td>1</td>\n",
       "      <td>Rainy</td>\n",
       "      <td>140</td>\n",
       "      <td>8.527341</td>\n",
       "      <td>1.224647e-16</td>\n",
       "      <td>-1.000000e+00</td>\n",
       "      <td>0</td>\n",
       "      <td>1</td>\n",
       "      <td>0</td>\n",
       "      <td>0</td>\n",
       "      <td>0</td>\n",
       "      <td>0</td>\n",
       "    </tr>\n",
       "    <tr>\n",
       "      <th>2</th>\n",
       "      <td>Barley</td>\n",
       "      <td>147.998025</td>\n",
       "      <td>29.794042</td>\n",
       "      <td>0</td>\n",
       "      <td>0</td>\n",
       "      <td>Sunny</td>\n",
       "      <td>106</td>\n",
       "      <td>1.127443</td>\n",
       "      <td>0.000000e+00</td>\n",
       "      <td>1.000000e+00</td>\n",
       "      <td>0</td>\n",
       "      <td>0</td>\n",
       "      <td>1</td>\n",
       "      <td>0</td>\n",
       "      <td>0</td>\n",
       "      <td>0</td>\n",
       "    </tr>\n",
       "    <tr>\n",
       "      <th>3</th>\n",
       "      <td>Soybean</td>\n",
       "      <td>986.866331</td>\n",
       "      <td>16.644190</td>\n",
       "      <td>0</td>\n",
       "      <td>1</td>\n",
       "      <td>Rainy</td>\n",
       "      <td>146</td>\n",
       "      <td>6.517573</td>\n",
       "      <td>0.000000e+00</td>\n",
       "      <td>1.000000e+00</td>\n",
       "      <td>0</td>\n",
       "      <td>0</td>\n",
       "      <td>0</td>\n",
       "      <td>0</td>\n",
       "      <td>1</td>\n",
       "      <td>0</td>\n",
       "    </tr>\n",
       "    <tr>\n",
       "      <th>4</th>\n",
       "      <td>Wheat</td>\n",
       "      <td>730.379174</td>\n",
       "      <td>31.620687</td>\n",
       "      <td>1</td>\n",
       "      <td>1</td>\n",
       "      <td>Cloudy</td>\n",
       "      <td>110</td>\n",
       "      <td>7.248251</td>\n",
       "      <td>1.224647e-16</td>\n",
       "      <td>-1.000000e+00</td>\n",
       "      <td>0</td>\n",
       "      <td>0</td>\n",
       "      <td>0</td>\n",
       "      <td>0</td>\n",
       "      <td>0</td>\n",
       "      <td>1</td>\n",
       "    </tr>\n",
       "  </tbody>\n",
       "</table>\n",
       "</div>"
      ],
      "text/plain": [
       "      Crop  Rainfall_mm  Temperature_Celsius  Fertilizer_Used  \\\n",
       "0   Cotton   897.077239            27.676966                0   \n",
       "1     Rice   992.673282            18.026142                1   \n",
       "2   Barley   147.998025            29.794042                0   \n",
       "3  Soybean   986.866331            16.644190                0   \n",
       "4    Wheat   730.379174            31.620687                1   \n",
       "\n",
       "   Irrigation_Used Weather_Condition  Days_to_Harvest  Yield_tons_per_hectare  \\\n",
       "0                1            Cloudy              122                6.555816   \n",
       "1                1             Rainy              140                8.527341   \n",
       "2                0             Sunny              106                1.127443   \n",
       "3                1             Rainy              146                6.517573   \n",
       "4                1            Cloudy              110                7.248251   \n",
       "\n",
       "        sin_dir       cos_dir  Soil_Type_Chalky  Soil_Type_Clay  \\\n",
       "0 -1.000000e+00 -1.836970e-16                 0               0   \n",
       "1  1.224647e-16 -1.000000e+00                 0               1   \n",
       "2  0.000000e+00  1.000000e+00                 0               0   \n",
       "3  0.000000e+00  1.000000e+00                 0               0   \n",
       "4  1.224647e-16 -1.000000e+00                 0               0   \n",
       "\n",
       "   Soil_Type_Loam  Soil_Type_Peaty  Soil_Type_Sandy  Soil_Type_Silt  \n",
       "0               0                0                1               0  \n",
       "1               0                0                0               0  \n",
       "2               1                0                0               0  \n",
       "3               0                0                1               0  \n",
       "4               0                0                0               1  "
      ]
     },
     "execution_count": 21,
     "metadata": {},
     "output_type": "execute_result"
    }
   ],
   "source": [
    "# overviewing the pre-processed data and planning further methods\n",
    "\n",
    "df.head()"
   ]
  },
  {
   "cell_type": "code",
   "execution_count": 22,
   "metadata": {},
   "outputs": [
    {
     "name": "stdout",
     "output_type": "stream",
     "text": [
      "['Cloudy' 'Rainy' 'Sunny']\n"
     ]
    }
   ],
   "source": [
    "# checking the different unique weather conditions in the dataset\n",
    "\n",
    "print(df['Weather_Condition'].unique())"
   ]
  },
  {
   "cell_type": "code",
   "execution_count": 23,
   "metadata": {},
   "outputs": [],
   "source": [
    "# one-hot encoding the weather conditions column\n",
    "\n",
    "df = pd.get_dummies(df, columns=[\"Weather_Condition\"], dtype=np.uint8)"
   ]
  },
  {
   "cell_type": "code",
   "execution_count": 24,
   "metadata": {},
   "outputs": [
    {
     "name": "stdout",
     "output_type": "stream",
     "text": [
      "['Cotton' 'Rice' 'Barley' 'Soybean' 'Wheat' 'Maize']\n"
     ]
    }
   ],
   "source": [
    "# checking the different crops available in the dataset\n",
    "\n",
    "print(df['Crop'].unique())"
   ]
  },
  {
   "cell_type": "code",
   "execution_count": null,
   "metadata": {},
   "outputs": [],
   "source": [
    "# segregating the dataset in terms of the different crop availability for individual model training\n",
    "\n",
    "crop_types = ['Cotton', 'Rice', 'Barley', 'Soybean', 'Wheat', 'Maize']\n",
    "\n",
    "crop_data = {}\n",
    "\n",
    "for crop in crop_types:\n",
    "    crop_data[crop] = df[df['Crop'] == crop]"
   ]
  },
  {
   "cell_type": "code",
   "execution_count": 27,
   "metadata": {},
   "outputs": [],
   "source": [
    "# exporting the csv files for the same\n",
    "\n",
    "for crop, data in crop_data.items():\n",
    "    data.to_csv(f'{crop}_dataset.csv', index=False)"
   ]
  }
 ],
 "metadata": {
  "kernelspec": {
   "display_name": "Python 3 (ipykernel)",
   "language": "python",
   "name": "python3"
  },
  "language_info": {
   "codemirror_mode": {
    "name": "ipython",
    "version": 3
   },
   "file_extension": ".py",
   "mimetype": "text/x-python",
   "name": "python",
   "nbconvert_exporter": "python",
   "pygments_lexer": "ipython3",
   "version": "3.12.5"
  }
 },
 "nbformat": 4,
 "nbformat_minor": 2
}
